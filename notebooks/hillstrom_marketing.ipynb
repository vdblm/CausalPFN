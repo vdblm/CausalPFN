{
 "cells": [
  {
   "cell_type": "code",
   "execution_count": 1,
   "id": "93992f94",
   "metadata": {},
   "outputs": [
    {
     "data": {
      "text/plain": [
       "<torch._C.Generator at 0x7f9c8e3d8cb0>"
      ]
     },
     "execution_count": 1,
     "metadata": {},
     "output_type": "execute_result"
    }
   ],
   "source": [
    "%load_ext autoreload\n",
    "%autoreload 2\n",
    "import warnings\n",
    "import numpy as np\n",
    "import torch\n",
    "\n",
    "import random\n",
    "import sys\n",
    "import pandas as pd\n",
    "\n",
    "sys.path.append(\"..\")\n",
    "\n",
    "warnings.filterwarnings('ignore') # ignore warnings\n",
    "\n",
    "device = torch.device(\"cuda:0\" if torch.cuda.is_available() else \"cpu\")\n",
    "\n",
    "\n",
    "# Set seeds for reproducibility\n",
    "seed = 82718\n",
    "random.seed(seed)\n",
    "np.random.seed(seed)\n",
    "torch.manual_seed(seed)\n"
   ]
  },
  {
   "cell_type": "markdown",
   "id": "303f9c9a",
   "metadata": {},
   "source": [
    "## Experiment with Hillstrom\n",
    "\n",
    "Here, we load two experiments from Hillstrom: $(i)$ advertising men's merchandise vs. no advertisement, and it's effect on whether or not a user visit's the website, and $(ii)$ advertising women's merchandise vs. no advertisement, and it's effect on whether or not a user visit's the website. Run the following to load the datasets:\n"
   ]
  },
  {
   "cell_type": "code",
   "execution_count": 2,
   "id": "cb0a1f3a",
   "metadata": {},
   "outputs": [],
   "source": [
    "%autoreload 2\n",
    "from benchmarks import HillstromDataset\n",
    "\n",
    "hill1 = HillstromDataset(\n",
    "    seed=seed,\n",
    "    n_folds=5,\n",
    "    outcome_col=\"visit\",\n",
    "    control_arm = \"No E-Mail\",\n",
    "    treatment_arm= \"Womens E-Mail\",\n",
    ")\n",
    "hill2 = HillstromDataset(\n",
    "    seed=seed,\n",
    "    n_folds=5,\n",
    "    outcome_col=\"visit\",\n",
    "    control_arm = \"No E-Mail\",\n",
    "    treatment_arm= \"Mens E-Mail\",\n",
    ")"
   ]
  },
  {
   "cell_type": "markdown",
   "id": "e1fc0431",
   "metadata": {},
   "source": [
    "Now run the following which will estimate the effect of every unit using 5-fold honest splitting. It will estimate the effects using both an X-Learner, as well as our CausalPFN:"
   ]
  },
  {
   "cell_type": "code",
   "execution_count": 3,
   "id": "5da03ebc",
   "metadata": {},
   "outputs": [
    {
     "name": "stdout",
     "output_type": "stream",
     "text": [
      "rpy2 not installed, skipping BART baseline.\n",
      "catenets not installed, skipping CATENet baselines.\n",
      "rpy2 not installed, skipping GRF baseline.\n"
     ]
    },
    {
     "name": "stderr",
     "output_type": "stream",
     "text": [
      "Running CausalPFN and X-Learner: 100%|██████████| 10/10 [06:38<00:00, 39.80s/it]\n"
     ]
    }
   ],
   "source": [
    "%autoreload 2\n",
    "from causalpfn.causal_estimator import CATEEstimator\n",
    "from benchmarks.base import Qini_Dataset\n",
    "from tqdm import tqdm\n",
    "from benchmarks.baselines import XLearnerBaseline\n",
    "\n",
    "datasets = [hill1, hill2]\n",
    "results = [\n",
    "    pd.DataFrame(columns=['y', 't', 'effect_causalpfn', 'effect_xlearner']),\n",
    "    pd.DataFrame(columns=['y', 't', 'effect_causalpfn', 'effect_xlearner']),\n",
    "]\n",
    "pbar = tqdm(\n",
    "    total = sum([len(dset) for dset in datasets]),\n",
    "    desc = \"Running CausalPFN and X-Learner\",\n",
    ")\n",
    "for dset_idx in range(len(datasets)):\n",
    "    dset: HillstromDataset = datasets[dset_idx]\n",
    "    for fold_idx in range(len(dset)):\n",
    "        # fit on the rest of the data and get estimates for the current fold (honest splitting)\n",
    "        qini_data: Qini_Dataset = dset[fold_idx]\n",
    "        train_size = qini_data.X_train.shape[0]\n",
    "        test_size = qini_data.X_test.shape[0]\n",
    "        # run causalpfn\n",
    "        causalpfn = CATEEstimator(\n",
    "            device=device,\n",
    "            max_context_length=train_size, # set to a large value to fit everything in the context\n",
    "        )\n",
    "        causalpfn.fit(X=qini_data.X_train, y=qini_data.y_train, t=qini_data.t_train)\n",
    "        causalpfn_tau_hat = causalpfn.estimate_cate(X=qini_data.X_test)\n",
    "\n",
    "        # run an x-learner\n",
    "        xlearner = XLearnerBaseline(hpo=False)\n",
    "        xlearner_tau_hat = xlearner.estimate_cate(\n",
    "            X_train=qini_data.X_train,\n",
    "            y_train=qini_data.y_train,\n",
    "            t_train=qini_data.t_train,\n",
    "            X_test=qini_data.X_test,\n",
    "        )\n",
    "\n",
    "        # add the fold\n",
    "        results[dset_idx] = pd.concat([results[dset_idx], pd.DataFrame({\n",
    "            'y': qini_data.y_test,\n",
    "            't': qini_data.t_test,\n",
    "            'effect_causalpfn': causalpfn_tau_hat,\n",
    "            'effect_xlearner': xlearner_tau_hat,\n",
    "        })], ignore_index=True)\n",
    "        pbar.update(1)\n",
    "pbar.close()\n"
   ]
  },
  {
   "cell_type": "code",
   "execution_count": 4,
   "id": "e0b85ecb",
   "metadata": {},
   "outputs": [
    {
     "data": {
      "text/html": [
       "<div>\n",
       "<style scoped>\n",
       "    .dataframe tbody tr th:only-of-type {\n",
       "        vertical-align: middle;\n",
       "    }\n",
       "\n",
       "    .dataframe tbody tr th {\n",
       "        vertical-align: top;\n",
       "    }\n",
       "\n",
       "    .dataframe thead th {\n",
       "        text-align: right;\n",
       "    }\n",
       "</style>\n",
       "<table border=\"1\" class=\"dataframe\">\n",
       "  <thead>\n",
       "    <tr style=\"text-align: right;\">\n",
       "      <th></th>\n",
       "      <th>y</th>\n",
       "      <th>t</th>\n",
       "      <th>effect_causalpfn</th>\n",
       "      <th>effect_xlearner</th>\n",
       "    </tr>\n",
       "  </thead>\n",
       "  <tbody>\n",
       "    <tr>\n",
       "      <th>0</th>\n",
       "      <td>0.0</td>\n",
       "      <td>1.0</td>\n",
       "      <td>0.031093</td>\n",
       "      <td>0.084518</td>\n",
       "    </tr>\n",
       "    <tr>\n",
       "      <th>1</th>\n",
       "      <td>0.0</td>\n",
       "      <td>0.0</td>\n",
       "      <td>0.080992</td>\n",
       "      <td>0.080111</td>\n",
       "    </tr>\n",
       "    <tr>\n",
       "      <th>2</th>\n",
       "      <td>0.0</td>\n",
       "      <td>1.0</td>\n",
       "      <td>0.144844</td>\n",
       "      <td>0.068872</td>\n",
       "    </tr>\n",
       "    <tr>\n",
       "      <th>3</th>\n",
       "      <td>0.0</td>\n",
       "      <td>1.0</td>\n",
       "      <td>-0.002843</td>\n",
       "      <td>0.057735</td>\n",
       "    </tr>\n",
       "    <tr>\n",
       "      <th>4</th>\n",
       "      <td>0.0</td>\n",
       "      <td>1.0</td>\n",
       "      <td>0.130926</td>\n",
       "      <td>0.130647</td>\n",
       "    </tr>\n",
       "  </tbody>\n",
       "</table>\n",
       "</div>"
      ],
      "text/plain": [
       "     y    t  effect_causalpfn  effect_xlearner\n",
       "0  0.0  1.0          0.031093         0.084518\n",
       "1  0.0  0.0          0.080992         0.080111\n",
       "2  0.0  1.0          0.144844         0.068872\n",
       "3  0.0  1.0         -0.002843         0.057735\n",
       "4  0.0  1.0          0.130926         0.130647"
      ]
     },
     "execution_count": 4,
     "metadata": {},
     "output_type": "execute_result"
    }
   ],
   "source": [
    "results[1].head()"
   ]
  },
  {
   "cell_type": "markdown",
   "id": "23254018",
   "metadata": {},
   "source": [
    "## Visualize the Qini Curves\n",
    "\n",
    "Once the results are saved, run the following to visualize the Qini curves for both of the randomized trials. The men's merchandise experiment should show a smaller lift compared to the women's merchandise experiment.\n"
   ]
  },
  {
   "cell_type": "code",
   "execution_count": 5,
   "id": "c35ae4fe",
   "metadata": {},
   "outputs": [
    {
     "data": {
      "image/png": "[encoded data removed]",
      "text/plain": [
       "<Figure size 450x330 with 1 Axes>"
      ]
     },
     "metadata": {},
     "output_type": "display_data"
    }
   ],
   "source": [
    "from src.causalpfn.evaluation import get_qini_curve\n",
    "from matplotlib import pyplot as plt\n",
    "from matplotlib.lines import Line2D\n",
    "\n",
    "fig, ax = plt.subplots(figsize=(4.5, 3.3))\n",
    "qini_curves = []\n",
    "STEP = 500\n",
    "\n",
    "orange = \"#FF7F0E\"  # Hill(1): email vs no‑email\n",
    "blue = \"#1f77b4\"  # Hill(2): women vs men email\n",
    "grey = \"#7f7f7f\"  # random baseline\n",
    "\n",
    "for dset_idx in range(len(datasets)):\n",
    "    all_t = results[dset_idx][\"t\"].values\n",
    "    all_y = results[dset_idx][\"y\"].values\n",
    "    all_effects_causalpfn = results[dset_idx][\"effect_causalpfn\"].values\n",
    "    all_effects_xlearner = results[dset_idx][\"effect_xlearner\"].values\n",
    "\n",
    "    curve_causalpfn, score_causalpfn = get_qini_curve(\n",
    "        rct_treatments=all_t,\n",
    "        rct_outcomes=all_y,\n",
    "        estimated_cate=all_effects_causalpfn,\n",
    "        normalize=True,\n",
    "    )\n",
    "    curve_xlearner, score_xlearner = get_qini_curve(\n",
    "        rct_treatments=all_t,\n",
    "        rct_outcomes=all_y,\n",
    "        estimated_cate=all_effects_xlearner,\n",
    "        normalize=True,\n",
    "    )\n",
    "    curve_causalpfn = np.r_[curve_causalpfn[0], curve_causalpfn[::STEP], curve_causalpfn[-1]]\n",
    "    curve_xlearner = np.r_[curve_xlearner[0], curve_xlearner[::STEP], curve_xlearner[-1]]\n",
    "    color = orange if dset_idx == 0 else blue\n",
    "    ax.plot(np.linspace(0, 1, len(curve_causalpfn)), curve_causalpfn, label=f\"CausalPFN {dset_idx+1}\", color=color)\n",
    "    ax.plot(\n",
    "        np.linspace(0, 1, len(curve_xlearner)),\n",
    "        curve_xlearner,\n",
    "        label=f\"X-Learner {dset_idx+1}\",\n",
    "        color=color,\n",
    "        linestyle=\":\",\n",
    "    )\n",
    "ax.plot([0, 1], [0, 1], linestyle=\"--\", label=\"Random\", color=grey)\n",
    "ax.set_title(f\"Qini Curve for Hillstrom RCT\")\n",
    "ax.legend()\n",
    "ax.set_xlabel(\"Fraction of samples: $q$\")\n",
    "ax.set_ylabel(\"Qini Curve: $Q(q)$\")\n",
    "\n",
    "\n",
    "colour_legend = [\n",
    "    Line2D([0], [0], color=orange, lw=3, label=\"Hill$^{(1)}$\"),\n",
    "    Line2D([0], [0], color=blue, lw=3, label=\"Hill$^{(2)}$\"),\n",
    "]\n",
    "style_legend = [\n",
    "    Line2D([0], [0], color=\"black\", lw=3, ls=\"-\", label=\"CausalPFN\"),\n",
    "    Line2D([0], [0], color=\"black\", lw=3, ls=\":\", label=\"X-Learner\"),\n",
    "    Line2D([0], [0], color=grey, lw=1.5, ls=\"--\", label=\"Random\"),\n",
    "]\n",
    "first = ax.legend(handles=colour_legend, loc=\"upper left\", frameon=False, fontsize=13)\n",
    "second = ax.legend(handles=style_legend, loc=\"lower right\", frameon=False, fontsize=13)\n",
    "ax.add_artist(first)  # keep the first legend\n",
    "plt.tight_layout()\n",
    "plt.show()"
   ]
  },
  {
   "cell_type": "code",
   "execution_count": null,
   "id": "4ee2ab24",
   "metadata": {},
   "outputs": [],
   "source": []
  }
 ],
 "metadata": {
  "kernelspec": {
   "display_name": "venv",
   "language": "python",
   "name": "python3"
  },
  "language_info": {
   "codemirror_mode": {
    "name": "ipython",
    "version": 3
   },
   "file_extension": ".py",
   "mimetype": "text/x-python",
   "name": "python",
   "nbconvert_exporter": "python",
   "pygments_lexer": "ipython3",
   "version": "3.10.12"
  }
 },
 "nbformat": 4,
 "nbformat_minor": 5
}
