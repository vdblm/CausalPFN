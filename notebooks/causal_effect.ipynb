{
 "cells": [
  {
   "cell_type": "code",
   "execution_count": 1,
   "id": "22601200",
   "metadata": {
    "execution": {
     "iopub.execute_input": "2025-05-20T12:06:29.538177Z",
     "iopub.status.busy": "2025-05-20T12:06:29.537867Z",
     "iopub.status.idle": "2025-05-20T12:06:31.379836Z",
     "shell.execute_reply": "2025-05-20T12:06:31.379117Z"
    },
    "papermill": {
     "duration": 1.845821,
     "end_time": "2025-05-20T12:06:31.380841",
     "exception": false,
     "start_time": "2025-05-20T12:06:29.535020",
     "status": "completed"
    },
    "tags": []
   },
   "outputs": [
    {
     "data": {
      "text/plain": [
       "<torch._C.Generator at 0x7fe57b30ccd0>"
      ]
     },
     "execution_count": 1,
     "metadata": {},
     "output_type": "execute_result"
    }
   ],
   "source": [
    "%load_ext autoreload\n",
    "%autoreload 2\n",
    "import warnings\n",
    "import numpy as np\n",
    "import torch\n",
    "import random\n",
    "import sys\n",
    "import pandas as pd\n",
    "sys.path.append(\"..\")\n",
    "\n",
    "warnings.filterwarnings('ignore') # ignore warnings\n",
    "device = torch.device(\"cuda:0\" if torch.cuda.is_available() else \"cpu\")\n",
    "\n",
    "\n",
    "# Set seeds for reproducibility\n",
    "seed = 82718\n",
    "random.seed(seed)\n",
    "np.random.seed(seed)\n",
    "torch.manual_seed(seed)\n"
   ]
  },
  {
   "cell_type": "markdown",
   "id": "701dc229",
   "metadata": {
    "papermill": {
     "duration": 0.001626,
     "end_time": "2025-05-20T12:06:31.384564",
     "exception": false,
     "start_time": "2025-05-20T12:06:31.382938",
     "status": "completed"
    },
    "tags": []
   },
   "source": [
    "# Compare CausalPFN to other Baselines\n",
    "\n",
    "In the following, we run causalPFN alongside other baselines on the four datasets that provide ground-truth effects and have multiple realizations. Note that the following list is not exhaustive, but it includes some of the most commonly used baselines in the literature. Running all of the baselines would have bloated the notebook size and code complexity, so we have chosen a representative subset from EconML.\n",
    "\n",
    "Run the following to run CausalPFN alongside the baselines on a suite of datasets that have multiple realizations and ground-truth effects. The results (e.g. ATE relative error and CATE PEHE) will be saved in the `results` dataframe, alongside their runtime per 1,000 samples:"
   ]
  },
  {
   "cell_type": "code",
   "execution_count": null,
   "id": "4b390394",
   "metadata": {
    "execution": {
     "iopub.execute_input": "2025-05-20T12:06:31.388978Z",
     "iopub.status.busy": "2025-05-20T12:06:31.388569Z",
     "iopub.status.idle": "2025-05-20T19:20:54.058195Z",
     "shell.execute_reply": "2025-05-20T19:20:54.057654Z"
    },
    "papermill": {
     "duration": 26062.673077,
     "end_time": "2025-05-20T19:20:54.059306",
     "exception": false,
     "start_time": "2025-05-20T12:06:31.386229",
     "status": "completed"
    },
    "tags": []
   },
   "outputs": [
    {
     "name": "stdout",
     "output_type": "stream",
     "text": [
      "rpy2 not installed, skipping BART baseline.\n",
      "catenets not installed, skipping CATENet baselines.\n",
      "rpy2 not installed, skipping GRF baseline.\n"
     ]
    },
    {
     "name": "stderr",
     "output_type": "stream",
     "text": [
      "Processing datasets: 100%|██████████| 16/16 [01:20<00:00,  2.36s/it, dataset=RealCause Lalonde PSID, method=T-Learner (no HPO)]"
     ]
    }
   ],
   "source": [
    "# Load datasets and required functions\n",
    "%autoreload 2\n",
    "from benchmarks import IHDPDataset, ACIC2016Dataset\n",
    "from benchmarks import RealCauseLalondeCPSDataset, RealCauseLalondePSIDDataset\n",
    "import time\n",
    "from causalpfn import ATEEstimator, CATEEstimator\n",
    "from benchmarks.base import CATE_Dataset, ATE_Dataset\n",
    "from benchmarks.baselines import (\n",
    "    TLearnerBaseline,\n",
    "    SLearnerBaseline,\n",
    "    XLearnerBaseline,\n",
    "    BaselineModel\n",
    ")\n",
    "\n",
    "from causalpfn.evaluation import calculate_pehe\n",
    "from tqdm import tqdm\n",
    "\n",
    "# Get different realizations for each dataset (only the first realization - you can change `n_tables`)\n",
    "datasets = {\n",
    "    \"IHDP\": IHDPDataset(n_tables=1),\n",
    "    \"ACIC 2016\": ACIC2016Dataset(n_tables=1),\n",
    "    \"RealCause Lalonde CPS\": RealCauseLalondeCPSDataset(n_tables=1),\n",
    "    \"RealCause Lalonde PSID\": RealCauseLalondePSIDDataset(n_tables=1),\n",
    "}\n",
    "# get all of the baselines to compare with (not exhaustive -- feel free to comment out some)\n",
    "baselines = {\n",
    "    \"X-Learner (no HPO)\": XLearnerBaseline(hpo=False),\n",
    "    \"S-Learner (no HPO)\": SLearnerBaseline(hpo=False),\n",
    "    \"T-Learner (no HPO)\": TLearnerBaseline(hpo=False),\n",
    "    ################################################\n",
    "    # Ucomment the following lines to run with HPO #\n",
    "    ################################################\n",
    "    # \"X-Learner (HPO)\": XLearnerBaseline(hpo=True),\n",
    "    # \"S-Learner (HPO)\": SLearnerBaseline(hpo=True),\n",
    "    # \"T-Learner (HPO)\": TLearnerBaseline(hpo=True),\n",
    "}\n",
    "# Initialize results DataFrame\n",
    "results = pd.DataFrame(columns=[\"dataset\", \"realization\", \"method\", \"ate_rel_err\", \"cate_pehe\", \"ate_time\", \"cate_time\"])\n",
    "\n",
    "# Iterate through datasets and realizations\n",
    "pbar = tqdm(\n",
    "    total=sum(len(dataset) * (1 + len(baselines)) for dataset in datasets.values()),\n",
    "    desc=\"Processing datasets\",\n",
    ")\n",
    "for dataset_name, dataset in datasets.items():\n",
    "    for realization_idx in range(len(dataset)):\n",
    "        pbar.set_postfix({\"dataset\": dataset_name, \"method\": \"CausalPFN\"})\n",
    "        res = dataset[realization_idx]\n",
    "        cate_dset: CATE_Dataset = res[0]\n",
    "        ate_dset: ATE_Dataset = res[1]\n",
    "\n",
    "        # run CausalPFN estimator for ATE\n",
    "        start_time = time.time()\n",
    "        causalpfn_ate = ATEEstimator(\n",
    "            device=device,\n",
    "        )\n",
    "        causalpfn_ate.fit(ate_dset.X, ate_dset.t, ate_dset.y)\n",
    "        true_ate = ate_dset.true_ate\n",
    "        causalpfn_ate_hat = causalpfn_ate.estimate_ate()\n",
    "        causalpfn_rel_error = abs(causalpfn_ate_hat - true_ate) / abs(true_ate)\n",
    "        ate_time = time.time() - start_time\n",
    "\n",
    "        # run CausalPFN estimator for CATE\n",
    "        start_time = time.time()\n",
    "        causalpfn_cate = CATEEstimator(\n",
    "            device=device,\n",
    "        )\n",
    "        causalpfn_cate.fit(cate_dset.X_train, cate_dset.t_train, cate_dset.y_train)\n",
    "        causalpfn_cate_hat = causalpfn_cate.estimate_cate(cate_dset.X_test)\n",
    "        cate_pehe = calculate_pehe(cate_dset.true_cate, causalpfn_cate_hat)\n",
    "        cate_time = time.time() - start_time\n",
    "\n",
    "        # add results for CausalPFN\n",
    "        row = dict(\n",
    "            dataset=dataset_name,\n",
    "            realization=realization_idx,\n",
    "            method=\"CausalPFN\",\n",
    "            ate_rel_err=round(causalpfn_rel_error, 2),\n",
    "            cate_pehe=round(cate_pehe, 2),\n",
    "            ate_time=round(ate_time / (ate_dset.X.shape[0] + ate_dset.X.shape[0]) * 100, 2),\n",
    "            cate_time=round(cate_time / (cate_dset.X_train.shape[0] + cate_dset.X_test.shape[0]) * 100, 2),\n",
    "        )\n",
    "        pbar.update(1)\n",
    "        results = pd.concat([results, pd.DataFrame([row])], ignore_index=True)\n",
    "\n",
    "        for method_name, baseline in baselines.items():\n",
    "            pbar.set_postfix({\"dataset\": dataset_name, \"method\": method_name})\n",
    "            baseline: BaselineModel\n",
    "\n",
    "            # run baseline estimator for ATE\n",
    "            start_time = time.time()\n",
    "            ate_pred = baseline.estimate_ate(X=ate_dset.X, t=ate_dset.t, y=ate_dset.y)\n",
    "            rel_err = np.abs(ate_pred - true_ate) / np.abs(true_ate)\n",
    "            ate_time = time.time() - start_time\n",
    "\n",
    "            # run baseline estimator for CATE\n",
    "            start_time = time.time()\n",
    "            cate_pred = baseline.estimate_cate(X_train=cate_dset.X_train, t_train=cate_dset.t_train, y_train=cate_dset.y_train, X_test=cate_dset.X_test)\n",
    "            cate_pehe = calculate_pehe(cate_dset.true_cate, cate_pred)\n",
    "            cate_time = time.time() - start_time\n",
    "\n",
    "            # add results for baseline\n",
    "            row = dict(\n",
    "                dataset=dataset_name,\n",
    "                realization=realization_idx,\n",
    "                method=method_name,\n",
    "                ate_rel_err=round(rel_err, 2),\n",
    "                cate_pehe=round(cate_pehe, 2),\n",
    "                ate_time=round(ate_time / (ate_dset.X.shape[0] + ate_dset.X.shape[0]) * 100, 2),\n",
    "                cate_time=round(cate_time / (cate_dset.X_train.shape[0] + cate_dset.X_test.shape[0]) * 100, 2),\n",
    "            )\n",
    "            pbar.update(1)\n",
    "            results = pd.concat([results, pd.DataFrame([row])], ignore_index=True)\n"
   ]
  },
  {
   "cell_type": "markdown",
   "id": "b760d0f2",
   "metadata": {
    "papermill": {
     "duration": 0.147902,
     "end_time": "2025-05-20T19:20:54.319888",
     "exception": false,
     "start_time": "2025-05-20T19:20:54.171986",
     "status": "completed"
    },
    "tags": []
   },
   "source": [
    "Next, run the following to visualize the average of different metrics across different realizations of each dataset."
   ]
  },
  {
   "cell_type": "code",
   "execution_count": 3,
   "id": "f8591d77",
   "metadata": {
    "execution": {
     "iopub.execute_input": "2025-05-20T19:20:54.544700Z",
     "iopub.status.busy": "2025-05-20T19:20:54.544411Z",
     "iopub.status.idle": "2025-05-20T19:20:54.594129Z",
     "shell.execute_reply": "2025-05-20T19:20:54.593646Z"
    },
    "papermill": {
     "duration": 0.163681,
     "end_time": "2025-05-20T19:20:54.595007",
     "exception": false,
     "start_time": "2025-05-20T19:20:54.431326",
     "status": "completed"
    },
    "tags": []
   },
   "outputs": [],
   "source": [
    "# summarize all of the ATE and CATE estimation times by averaging over realizations\n",
    "time_spent_df = (\n",
    "    results.pivot_table(\n",
    "        index=\"method\",  # rows: one per method\n",
    "        columns=\"dataset\",  # multi‐columns: first level will be dataset\n",
    "        values=[\"ate_time\", \"cate_time\"],  # the values to aggregate\n",
    "        aggfunc=\"mean\",  # take the mean over realizations\n",
    "    )\n",
    "    .swaplevel(0, 1, axis=1)\n",
    "    .sort_index(axis=1, level=0)\n",
    ")\n",
    "\n",
    "# Compute mean and standard error for ATE and CATE metrics\n",
    "metrics = [\"cate_pehe\", \"ate_rel_err\"]\n",
    "grp = results.groupby([\"method\", \"dataset\"])[metrics].agg([\"mean\", \"sem\"])  # MultiIndex cols: (metric, agg)\n",
    "methods = grp.index.levels[0]\n",
    "datasets = grp.index.levels[1]\n",
    "data = {}\n",
    "for ds in datasets:\n",
    "    for m in metrics:\n",
    "        means = grp[(m, \"mean\")].xs(ds, level=\"dataset\")\n",
    "        sems = grp[(m, \"sem\")].xs(ds, level=\"dataset\")\n",
    "        # combine into \"xx.xx ± yy.yy\" strings\n",
    "        data[(ds, m)] = means.combine(sems, lambda mu, se: f\"{mu:.2f} ± {se:.2f}\")\n",
    "causal_effect_errors = pd.DataFrame(data, index=methods)\n",
    "causal_effect_errors.columns = pd.MultiIndex.from_tuples(causal_effect_errors.columns, names=[\"dataset\", \"metric\"])\n",
    "causal_effect_errors = causal_effect_errors.sort_index(axis=1, level=0)"
   ]
  },
  {
   "cell_type": "markdown",
   "id": "961cd6e8",
   "metadata": {
    "papermill": {
     "duration": 0.111102,
     "end_time": "2025-05-20T19:20:54.818149",
     "exception": false,
     "start_time": "2025-05-20T19:20:54.707047",
     "status": "completed"
    },
    "tags": []
   },
   "source": [
    "Visualize the mean and standard errors for the causal effect estimates:"
   ]
  },
  {
   "cell_type": "code",
   "execution_count": null,
   "id": "845dfc50",
   "metadata": {
    "execution": {
     "iopub.execute_input": "2025-05-20T19:20:55.043526Z",
     "iopub.status.busy": "2025-05-20T19:20:55.043289Z",
     "iopub.status.idle": "2025-05-20T19:20:55.076407Z",
     "shell.execute_reply": "2025-05-20T19:20:55.075926Z"
    },
    "papermill": {
     "duration": 0.146679,
     "end_time": "2025-05-20T19:20:55.077179",
     "exception": false,
     "start_time": "2025-05-20T19:20:54.930500",
     "status": "completed"
    },
    "tags": []
   },
   "outputs": [
    {
     "data": {
      "text/html": [
       "<div>\n",
       "<style scoped>\n",
       "    .dataframe tbody tr th:only-of-type {\n",
       "        vertical-align: middle;\n",
       "    }\n",
       "\n",
       "    .dataframe tbody tr th {\n",
       "        vertical-align: top;\n",
       "    }\n",
       "\n",
       "    .dataframe thead tr th {\n",
       "        text-align: left;\n",
       "    }\n",
       "\n",
       "    .dataframe thead tr:last-of-type th {\n",
       "        text-align: right;\n",
       "    }\n",
       "</style>\n",
       "<table border=\"1\" class=\"dataframe\">\n",
       "  <thead>\n",
       "    <tr>\n",
       "      <th>dataset</th>\n",
       "      <th colspan=\"2\" halign=\"left\">ACIC 2016</th>\n",
       "      <th colspan=\"2\" halign=\"left\">IHDP</th>\n",
       "      <th colspan=\"2\" halign=\"left\">RealCause Lalonde CPS</th>\n",
       "      <th colspan=\"2\" halign=\"left\">RealCause Lalonde PSID</th>\n",
       "    </tr>\n",
       "    <tr>\n",
       "      <th>metric</th>\n",
       "      <th>ate_rel_err</th>\n",
       "      <th>cate_pehe</th>\n",
       "      <th>ate_rel_err</th>\n",
       "      <th>cate_pehe</th>\n",
       "      <th>ate_rel_err</th>\n",
       "      <th>cate_pehe</th>\n",
       "      <th>ate_rel_err</th>\n",
       "      <th>cate_pehe</th>\n",
       "    </tr>\n",
       "    <tr>\n",
       "      <th>method</th>\n",
       "      <th></th>\n",
       "      <th></th>\n",
       "      <th></th>\n",
       "      <th></th>\n",
       "      <th></th>\n",
       "      <th></th>\n",
       "      <th></th>\n",
       "      <th></th>\n",
       "    </tr>\n",
       "  </thead>\n",
       "  <tbody>\n",
       "    <tr>\n",
       "      <th>CausalPFN</th>\n",
       "      <td>0.07 ± nan</td>\n",
       "      <td>0.73 ± nan</td>\n",
       "      <td>0.00 ± nan</td>\n",
       "      <td>0.17 ± nan</td>\n",
       "      <td>0.00 ± nan</td>\n",
       "      <td>8877.69 ± nan</td>\n",
       "      <td>0.09 ± nan</td>\n",
       "      <td>13549.69 ± nan</td>\n",
       "    </tr>\n",
       "    <tr>\n",
       "      <th>S-Learner (no HPO)</th>\n",
       "      <td>0.60 ± nan</td>\n",
       "      <td>3.47 ± nan</td>\n",
       "      <td>0.02 ± nan</td>\n",
       "      <td>0.50 ± nan</td>\n",
       "      <td>1.00 ± nan</td>\n",
       "      <td>12844.74 ± nan</td>\n",
       "      <td>1.02 ± nan</td>\n",
       "      <td>22972.74 ± nan</td>\n",
       "    </tr>\n",
       "    <tr>\n",
       "      <th>T-Learner (no HPO)</th>\n",
       "      <td>0.35 ± nan</td>\n",
       "      <td>2.17 ± nan</td>\n",
       "      <td>0.02 ± nan</td>\n",
       "      <td>0.55 ± nan</td>\n",
       "      <td>0.28 ± nan</td>\n",
       "      <td>9000.14 ± nan</td>\n",
       "      <td>0.00 ± nan</td>\n",
       "      <td>13335.38 ± nan</td>\n",
       "    </tr>\n",
       "    <tr>\n",
       "      <th>X-Learner (no HPO)</th>\n",
       "      <td>0.28 ± nan</td>\n",
       "      <td>1.99 ± nan</td>\n",
       "      <td>0.00 ± nan</td>\n",
       "      <td>0.55 ± nan</td>\n",
       "      <td>0.96 ± nan</td>\n",
       "      <td>12824.34 ± nan</td>\n",
       "      <td>0.93 ± nan</td>\n",
       "      <td>21588.71 ± nan</td>\n",
       "    </tr>\n",
       "  </tbody>\n",
       "</table>\n",
       "</div>"
      ],
      "text/plain": [
       "dataset              ACIC 2016                    IHDP              \\\n",
       "metric             ate_rel_err   cate_pehe ate_rel_err   cate_pehe   \n",
       "method                                                               \n",
       "CausalPFN           0.07 ± nan  0.73 ± nan  0.00 ± nan  0.17 ± nan   \n",
       "S-Learner (no HPO)  0.60 ± nan  3.47 ± nan  0.02 ± nan  0.50 ± nan   \n",
       "T-Learner (no HPO)  0.35 ± nan  2.17 ± nan  0.02 ± nan  0.55 ± nan   \n",
       "X-Learner (no HPO)  0.28 ± nan  1.99 ± nan  0.00 ± nan  0.55 ± nan   \n",
       "\n",
       "dataset            RealCause Lalonde CPS                  \\\n",
       "metric                       ate_rel_err       cate_pehe   \n",
       "method                                                     \n",
       "CausalPFN                     0.00 ± nan   8877.69 ± nan   \n",
       "S-Learner (no HPO)            1.00 ± nan  12844.74 ± nan   \n",
       "T-Learner (no HPO)            0.28 ± nan   9000.14 ± nan   \n",
       "X-Learner (no HPO)            0.96 ± nan  12824.34 ± nan   \n",
       "\n",
       "dataset            RealCause Lalonde PSID                  \n",
       "metric                        ate_rel_err       cate_pehe  \n",
       "method                                                     \n",
       "CausalPFN                      0.09 ± nan  13549.69 ± nan  \n",
       "S-Learner (no HPO)             1.02 ± nan  22972.74 ± nan  \n",
       "T-Learner (no HPO)             0.00 ± nan  13335.38 ± nan  \n",
       "X-Learner (no HPO)             0.93 ± nan  21588.71 ± nan  "
      ]
     },
     "execution_count": 4,
     "metadata": {},
     "output_type": "execute_result"
    }
   ],
   "source": [
    "causal_effect_errors"
   ]
  },
  {
   "cell_type": "markdown",
   "id": "678942a6",
   "metadata": {
    "papermill": {
     "duration": 0.112699,
     "end_time": "2025-05-20T19:20:55.301601",
     "exception": false,
     "start_time": "2025-05-20T19:20:55.188902",
     "status": "completed"
    },
    "tags": []
   },
   "source": [
    "Visualize the average errors of causal effects"
   ]
  },
  {
   "cell_type": "code",
   "execution_count": null,
   "id": "94f2659a",
   "metadata": {
    "execution": {
     "iopub.execute_input": "2025-05-20T19:20:55.549506Z",
     "iopub.status.busy": "2025-05-20T19:20:55.549275Z",
     "iopub.status.idle": "2025-05-20T19:20:55.581940Z",
     "shell.execute_reply": "2025-05-20T19:20:55.581498Z"
    },
    "papermill": {
     "duration": 0.144806,
     "end_time": "2025-05-20T19:20:55.582701",
     "exception": false,
     "start_time": "2025-05-20T19:20:55.437895",
     "status": "completed"
    },
    "tags": []
   },
   "outputs": [
    {
     "data": {
      "text/html": [
       "<div>\n",
       "<style scoped>\n",
       "    .dataframe tbody tr th:only-of-type {\n",
       "        vertical-align: middle;\n",
       "    }\n",
       "\n",
       "    .dataframe tbody tr th {\n",
       "        vertical-align: top;\n",
       "    }\n",
       "\n",
       "    .dataframe thead tr th {\n",
       "        text-align: left;\n",
       "    }\n",
       "\n",
       "    .dataframe thead tr:last-of-type th {\n",
       "        text-align: right;\n",
       "    }\n",
       "</style>\n",
       "<table border=\"1\" class=\"dataframe\">\n",
       "  <thead>\n",
       "    <tr>\n",
       "      <th>dataset</th>\n",
       "      <th colspan=\"2\" halign=\"left\">ACIC 2016</th>\n",
       "      <th colspan=\"2\" halign=\"left\">IHDP</th>\n",
       "      <th colspan=\"2\" halign=\"left\">RealCause Lalonde CPS</th>\n",
       "      <th colspan=\"2\" halign=\"left\">RealCause Lalonde PSID</th>\n",
       "    </tr>\n",
       "    <tr>\n",
       "      <th></th>\n",
       "      <th>ate_time</th>\n",
       "      <th>cate_time</th>\n",
       "      <th>ate_time</th>\n",
       "      <th>cate_time</th>\n",
       "      <th>ate_time</th>\n",
       "      <th>cate_time</th>\n",
       "      <th>ate_time</th>\n",
       "      <th>cate_time</th>\n",
       "    </tr>\n",
       "    <tr>\n",
       "      <th>method</th>\n",
       "      <th></th>\n",
       "      <th></th>\n",
       "      <th></th>\n",
       "      <th></th>\n",
       "      <th></th>\n",
       "      <th></th>\n",
       "      <th></th>\n",
       "      <th></th>\n",
       "    </tr>\n",
       "  </thead>\n",
       "  <tbody>\n",
       "    <tr>\n",
       "      <th>CausalPFN</th>\n",
       "      <td>0.17</td>\n",
       "      <td>0.06</td>\n",
       "      <td>0.27</td>\n",
       "      <td>0.08</td>\n",
       "      <td>0.1</td>\n",
       "      <td>0.06</td>\n",
       "      <td>0.12</td>\n",
       "      <td>0.03</td>\n",
       "    </tr>\n",
       "    <tr>\n",
       "      <th>S-Learner (no HPO)</th>\n",
       "      <td>0.00</td>\n",
       "      <td>0.00</td>\n",
       "      <td>0.01</td>\n",
       "      <td>0.01</td>\n",
       "      <td>0.0</td>\n",
       "      <td>0.00</td>\n",
       "      <td>0.00</td>\n",
       "      <td>0.00</td>\n",
       "    </tr>\n",
       "    <tr>\n",
       "      <th>T-Learner (no HPO)</th>\n",
       "      <td>0.00</td>\n",
       "      <td>0.00</td>\n",
       "      <td>0.01</td>\n",
       "      <td>0.02</td>\n",
       "      <td>0.0</td>\n",
       "      <td>0.00</td>\n",
       "      <td>0.00</td>\n",
       "      <td>0.01</td>\n",
       "    </tr>\n",
       "    <tr>\n",
       "      <th>X-Learner (no HPO)</th>\n",
       "      <td>0.01</td>\n",
       "      <td>0.01</td>\n",
       "      <td>0.04</td>\n",
       "      <td>0.07</td>\n",
       "      <td>0.0</td>\n",
       "      <td>0.00</td>\n",
       "      <td>0.01</td>\n",
       "      <td>0.02</td>\n",
       "    </tr>\n",
       "  </tbody>\n",
       "</table>\n",
       "</div>"
      ],
      "text/plain": [
       "dataset            ACIC 2016               IHDP            \\\n",
       "                    ate_time cate_time ate_time cate_time   \n",
       "method                                                      \n",
       "CausalPFN               0.17      0.06     0.27      0.08   \n",
       "S-Learner (no HPO)      0.00      0.00     0.01      0.01   \n",
       "T-Learner (no HPO)      0.00      0.00     0.01      0.02   \n",
       "X-Learner (no HPO)      0.01      0.01     0.04      0.07   \n",
       "\n",
       "dataset            RealCause Lalonde CPS           RealCause Lalonde PSID  \\\n",
       "                                ate_time cate_time               ate_time   \n",
       "method                                                                      \n",
       "CausalPFN                            0.1      0.06                   0.12   \n",
       "S-Learner (no HPO)                   0.0      0.00                   0.00   \n",
       "T-Learner (no HPO)                   0.0      0.00                   0.00   \n",
       "X-Learner (no HPO)                   0.0      0.00                   0.01   \n",
       "\n",
       "dataset                       \n",
       "                   cate_time  \n",
       "method                        \n",
       "CausalPFN               0.03  \n",
       "S-Learner (no HPO)      0.00  \n",
       "T-Learner (no HPO)      0.01  \n",
       "X-Learner (no HPO)      0.02  "
      ]
     },
     "execution_count": 5,
     "metadata": {},
     "output_type": "execute_result"
    }
   ],
   "source": [
    "time_spent_df"
   ]
  },
  {
   "cell_type": "code",
   "execution_count": null,
   "id": "9cc4eaaa",
   "metadata": {
    "papermill": {
     "duration": 0.113788,
     "end_time": "2025-05-20T19:20:55.807924",
     "exception": false,
     "start_time": "2025-05-20T19:20:55.694136",
     "status": "completed"
    },
    "tags": []
   },
   "outputs": [],
   "source": []
  }
 ],
 "metadata": {
  "kernelspec": {
   "display_name": "venv",
   "language": "python",
   "name": "python3"
  },
  "language_info": {
   "codemirror_mode": {
    "name": "ipython",
    "version": 3
   },
   "file_extension": ".py",
   "mimetype": "text/x-python",
   "name": "python",
   "nbconvert_exporter": "python",
   "pygments_lexer": "ipython3",
   "version": "3.10.12"
  },
  "papermill": {
   "default_parameters": {},
   "duration": 26069.169209,
   "end_time": "2025-05-20T19:20:57.736806",
   "environment_variables": {},
   "exception": null,
   "input_path": "causal_effect.ipynb",
   "output_path": "output_ce.ipynb",
   "parameters": {},
   "start_time": "2025-05-20T12:06:28.567597",
   "version": "2.6.0"
  }
 },
 "nbformat": 4,
 "nbformat_minor": 5
}
